{
 "cells": [
  {
   "cell_type": "code",
   "execution_count": null,
   "metadata": {
    "vscode": {
     "languageId": "r"
    }
   },
   "outputs": [],
   "source": [
    "# pi for 1000000 number of steps\n",
    "x <- numeric(1000000)\n",
    "y <- numeric(1000000)\n",
    "a <- 0\n",
    "b <- 0\n",
    "for (i in 1:1000000) {\n",
    "    x[i] <- runif(1)\n",
    "    y[i] <- runif(1)\n",
    "    if (sqrt(x[i]^2 + y[i]^2) <= 1) {\n",
    "        a <- a+1\n",
    "    }else{\n",
    "        b <- b+1\n",
    "    }\n",
    "}\n",
    "\n",
    "4*a/(a+b) # I used 0.5 as the mean and an sd=0.5 so I have to multiply by 8 since the numbers had to be positive, I used a normal distribution"
   ]
  },
  {
   "cell_type": "code",
   "execution_count": null,
   "metadata": {
    "vscode": {
     "languageId": "r"
    }
   },
   "outputs": [],
   "source": [
    "# pi for 1:N_steps number of steps\n",
    "\n",
    "N_steps <- c(10,100,1000,10000,100000,1000000)\n",
    "N_exp <- length(N_steps)\n",
    "pi_ <- numeric(N_exp)\n",
    "for (i in 1:N_exp){\n",
    "    a <- numeric(N_exp)\n",
    "    b <- numeric(N_exp)\n",
    "    x <- numeric(N_steps[i])\n",
    "    y <- numeric(N_steps[i])   \n",
    "    for (j in 1:N_steps[i]){\n",
    "        x[j] <- runif(1)\n",
    "        y[j] <- runif(1)\n",
    "        if (sqrt(x[j]^2 + y[j]^2) <= 1) {\n",
    "        a[i] <- a[i]+1\n",
    "        }else{\n",
    "        b[i]<- b[i]+1\n",
    "        }\n",
    "    } \n",
    "    pi_[i] <- 4*a[i]/(a[i]+b[i])\n",
    "}"
   ]
  },
  {
   "cell_type": "code",
   "execution_count": null,
   "metadata": {
    "vscode": {
     "languageId": "r"
    }
   },
   "outputs": [
    {
     "data": {
      "image/png": "[encoded data removed]",
      "text/plain": [
       "plot without title"
      ]
     },
     "metadata": {},
     "output_type": "display_data"
    }
   ],
   "source": [
    "plot(x=log10(N_steps), y=pi_, type='b', ylab='pi_', xlab='log_10(number of steps)', lwd=2)\n",
    "abline(h=pi_[N_exp])\n",
    "legend(2,3.15, as.character(pi_[N_exp]))"
   ]
  }
 ],
 "metadata": {
  "kernelspec": {
   "display_name": "R",
   "language": "R",
   "name": "ir"
  },
  "language_info": {
   "name": "R"
  }
 },
 "nbformat": 4,
 "nbformat_minor": 2
}
